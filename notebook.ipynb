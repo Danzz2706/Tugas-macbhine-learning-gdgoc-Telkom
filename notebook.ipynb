{
 "cells": [
  {
   "cell_type": "code",
   "execution_count": null,
   "metadata": {
    "vscode": {
     "languageId": "plaintext"
    }
   },
   "outputs": [],
   "source": [
    "import pandas as pd\n",
    "import matplotlib.pyplot as plt\n",
    "import seaborn as sns\n",
    "\n",
    "# Load dataset\n",
    "file_path = \"QS World University Rankings 2025.csv\"  # Replace this with the dataset's path\n",
    "try:\n",
    "    data = pd.read_csv(file_path)\n",
    "except FileNotFoundError:\n",
    "    print(\"Dataset file not found. Please make sure it is in the same directory as this notebook.\")\n",
    "\n",
    "# Clean dataset\n",
    "data_cleaned = data.iloc[3:]\n",
    "data_cleaned.columns = data.iloc[2]\n",
    "data_cleaned = data_cleaned.rename(columns=lambda x: x.strip() if isinstance(x, str) else x)\n",
    "data_cleaned.reset_index(drop=True, inplace=True)\n",
    "\n",
    "columns_to_keep = [\n",
    "    \"rank display\", \"institution\", \"location\", \"size\", \"focus\", \"research\",\n",
    "    \"irn score\", \"ger score\", \"SUS SCORE\", \"Overall Score\"\n",
    "]\n",
    "data_cleaned = data_cleaned[columns_to_keep]\n",
    "data_cleaned = data_cleaned.dropna(how=\"all\")\n",
    "\n",
    "numerical_columns = [\"irn score\", \"ger score\", \"SUS SCORE\", \"Overall Score\"]\n",
    "data_cleaned[numerical_columns] = data_cleaned[numerical_columns].apply(pd.to_numeric, errors=\"coerce\")\n",
    "\n",
    "# Visualization 1: Top 10 Universities by Overall Score\n",
    "top_10 = data_cleaned.nlargest(10, \"Overall Score\")\n",
    "plt.figure(figsize=(12, 6))\n",
    "sns.barplot(x=\"Overall Score\", y=\"institution\", data=top_10, palette=\"viridis\")\n",
    "plt.title(\"Top 10 Universities by Overall Score\", fontsize=14)\n",
    "plt.xlabel(\"Overall Score\", fontsize=12)\n",
    "plt.ylabel(\"Institution\", fontsize=12)\n",
    "plt.show()\n",
    "\n",
    "# Visualization 2: Distribution of Sustainability Scores (SUS SCORE)\n",
    "plt.figure(figsize=(10, 6))\n",
    "sns.histplot(data_cleaned[\"SUS SCORE\"].dropna(), kde=True, color=\"blue\", bins=20)\n",
    "plt.title(\"Distribution of Sustainability Scores (SUS SCORE)\", fontsize=14)\n",
    "plt.xlabel(\"SUS SCORE\", fontsize=12)\n",
    "plt.ylabel(\"Frequency\", fontsize=12)\n",
    "plt.show()\n",
    "\n",
    "# Visualization 3: Average IRN Score by Region\n",
    "average_irn_by_region = data_cleaned.groupby(\"location\")[\"irn score\"].mean().sort_values(ascending=False)\n",
    "plt.figure(figsize=(12, 6))\n",
    "average_irn_by_region.plot(kind=\"bar\", color=\"teal\")\n",
    "plt.title(\"Average IRN Score by Region\", fontsize=14)\n",
    "plt.xlabel(\"Region\", fontsize=12)\n",
    "plt.ylabel(\"Average IRN Score\", fontsize=12)\n",
    "plt.xticks(rotation=45)\n",
    "plt.show()\n",
    "\n",
    "# Insights:\n",
    "print(\"\\nInsights:\")\n",
    "print(\"1. The top 10 universities by overall score are dominated by well-known institutions, with MIT ranked first.\")\n",
    "print(\"2. The distribution of sustainability scores shows that most universities have scores above 80, indicating high sustainability awareness.\")\n",
    "print(\"3. Regions such as North America and Europe lead in average IRN scores, reflecting strong international research networks.\")\n"
   ]
  }
 ],
 "metadata": {
  "language_info": {
   "name": "python"
  }
 },
 "nbformat": 4,
 "nbformat_minor": 2
}
